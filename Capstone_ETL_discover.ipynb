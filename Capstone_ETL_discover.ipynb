{
 "cells": [
  {
   "cell_type": "code",
   "execution_count": 2,
   "metadata": {
    "collapsed": true
   },
   "outputs": [],
   "source": [
    "import tweepy\n",
    "import pandas"
   ]
  },
  {
   "cell_type": "code",
   "execution_count": 10,
   "metadata": {},
   "outputs": [],
   "source": [
    "consumerkey =  \"qZpU3S59CB5fiOXxTXM9ZvRCK\"\n",
    "consumer_secret = \"GmVIx3fbUzMQwmkS5fntWp2baj0nynI8sE2mEnZjED4pandATE\"\n",
    "access_token = \"3974835413-vAm6Mmmcfx2RoTiIwgzNc5r7FMH1vQuvkOqIvKo\"\n",
    "access_secret =\"LE7w5YT4tYdcYp6hPZsyUXE4J2iJNDM4IluhqXNSC5pwk\"\n",
    "\n",
    "\n",
    "OAUTH_KEYS = {'consumer_key':consumerkey, 'consumer_secret':consumer_secret,\n",
    " 'access_token_key':access_token, 'access_token_secret':access_secret}\n",
    "auth = tweepy.OAuthHandler(OAUTH_KEYS['consumer_key'], OAUTH_KEYS['consumer_secret'])\n",
    "api = tweepy.API(auth)\n",
    "\n",
    "ReyTweet = tweepy.Cursor(api.search, q='#kamalaharrisitems(100)\n",
    "KyloRenTweets = tweepy.Cursor(api.search, q='#beto2020').items(100)\n",
    "KyloRen_tweetlist = []\n",
    "Rey_tweetlist = []\n",
    "for tweet in KyloRenTweets:').\n",
    "   ##print(tweet.text)##, tweet.text, tweet.lang)\n",
    "    KyloRen_tweetlist.append(tweet.text)\n",
    "for tweet in ReyTweet:\n",
    "   ##print(tweet.text)##, tweet.text, tweet.lang)\n",
    "    Rey_tweetlist.append(tweet.text)\n",
    "KyloRen_df = pandas.DataFrame(KyloRen_tweetlist)\n",
    "Rey_df = pandas.DataFrame(Rey_tweetlist)\n",
    "\n",
    "Rey_df\n",
    "KyloRen_df\n",
    "\n",
    "Rey_df['Subject'] = 'kamala'\n",
    "\n",
    "KyloRen_df['Subject'] = 'beto'\n",
    "\n",
    "CombinedDF = KyloRen_df.append(Rey_df)\n",
    "\n",
    "CombinedDF.to_csv(\"capstone_etl_discovery_demcandidate.csv\", index = False)\n"
   ]
  },
  {
   "cell_type": "code",
   "execution_count": null,
   "metadata": {
    "collapsed": true
   },
   "outputs": [],
   "source": []
  },
  {
   "cell_type": "code",
   "execution_count": null,
   "metadata": {
    "collapsed": true
   },
   "outputs": [],
   "source": []
  }
 ],
 "metadata": {
  "kernelspec": {
   "display_name": "Python 3",
   "language": "python",
   "name": "python3"
  },
  "language_info": {
   "codemirror_mode": {
    "name": "ipython",
    "version": 3
   },
   "file_extension": ".py",
   "mimetype": "text/x-python",
   "name": "python",
   "nbconvert_exporter": "python",
   "pygments_lexer": "ipython3",
   "version": "3.6.1"
  }
 },
 "nbformat": 4,
 "nbformat_minor": 2
}
