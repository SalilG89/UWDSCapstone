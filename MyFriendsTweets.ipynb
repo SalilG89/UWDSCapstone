{
 "cells": [
  {
   "cell_type": "code",
   "execution_count": 13,
   "metadata": {},
   "outputs": [],
   "source": [
    "import os\n",
    "import tweepy\n",
    "import pandas\n",
    "\n",
    "\n",
    "consumerkey =  \"\"\n",
    "consumer_secret = \"\"\n",
    "access_token = \"\"\n",
    "access_secret =\"\"\n",
    "\n",
    "\n",
    "OAUTH_KEYS = {'consumer_key':consumerkey, 'consumer_secret':consumer_secret, 'access_token_key':access_token, 'access_token_secret':access_secret}\n",
    "auth = tweepy.OAuthHandler(OAUTH_KEYS['consumer_key'], OAUTH_KEYS['consumer_secret'])\n",
    "api = tweepy.API(auth)\n",
    "\n",
    "myTweet = tweepy.Cursor(api.search, q='#Hashtag since:2019-03-22 until:2019-03-23').items(1000)\n",
    "\n",
    "my_tweetlist = []\n",
    "for tweet in myTweet:\n",
    "   \n",
    "    with open('Filename.txt', 'a') as out:\n",
    "        out.write('\\n' + \" \".join(str(tweet.text.encode(\"utf-8\")).split())+ '|||' + str(tweet.created_at)+ '|||' + str(tweet.id))"
   ]
  },
  {
   "cell_type": "code",
   "execution_count": 25,
   "metadata": {},
   "outputs": [
    {
     "name": "stderr",
     "output_type": "stream",
     "text": [
      "Rate limit reached. Sleeping for: 565\n",
      "Rate limit reached. Sleeping for: 511\n",
      "Rate limit reached. Sleeping for: 592\n",
      "Rate limit reached. Sleeping for: 564\n",
      "Rate limit reached. Sleeping for: 596\n",
      "Rate limit reached. Sleeping for: 591\n",
      "Rate limit reached. Sleeping for: 592\n",
      "Rate limit reached. Sleeping for: 607\n",
      "Rate limit reached. Sleeping for: 584\n",
      "Rate limit reached. Sleeping for: 547\n",
      "Rate limit reached. Sleeping for: 439\n",
      "Rate limit reached. Sleeping for: 528\n",
      "Rate limit reached. Sleeping for: 570\n",
      "Rate limit reached. Sleeping for: 447\n",
      "Rate limit reached. Sleeping for: 588\n"
     ]
    }
   ],
   "source": [
    "import os\n",
    "import tweepy\n",
    "import pandas\n",
    "\n",
    "\n",
    "consumerkey =  \"\"\n",
    "consumer_secret = \"\"\n",
    "access_token = \"\"\n",
    "access_secret =\"\"\n",
    "\n",
    "\n",
    "OAUTH_KEYS = {'consumer_key':consumerkey, 'consumer_secret':consumer_secret, 'access_token_key':access_token, 'access_token_secret':access_secret}\n",
    "auth = tweepy.OAuthHandler(OAUTH_KEYS['consumer_key'], OAUTH_KEYS['consumer_secret'])\n",
    "auth.set_access_token(access_token, access_secret)\n",
    "\n",
    "api = tweepy.API(auth)\n",
    "\n",
    "friends = api.friends_ids()\n",
    "\n",
    "##for id in friends:\n",
    "    ##print(id)\n",
    "    ##theirname = api.get_user(id)\n",
    "    ##print(theirname.screen_name)\n",
    "\n",
    "for f_id in friends:\n",
    "    filename_str = 'User' + str(f_id) + '.txt'\n",
    "    filef = open(filename_str, 'w+')\n",
    "    \n",
    "    for tweet in tweepy.Cursor(api.user_timeline, id = f_id, wait_on_rate_limit = True, wait_on_rate_limit_notify = True).items(3000):\n",
    "        filef.write('\\n' + \" \".join(str(tweet.text.encode(\"utf-8\")).split())+ '|||' + str(tweet.created_at)+ '|||' + str(tweet.id) + '|||' + str(f_id))\n",
    "    filef.close()\n",
    "    \n",
    "##for tweet in tweepy.Cursor(api.user_timeline, id = 'SethMacFarlane', since).items():\n",
    "    ##print(tweet.text, \"\\t\", tweet.created_at)"
   ]
  },
  {
   "cell_type": "code",
   "execution_count": null,
   "metadata": {},
   "outputs": [],
   "source": []
  }
 ],
 "metadata": {
  "kernelspec": {
   "display_name": "Python 3",
   "language": "python",
   "name": "python3"
  },
  "language_info": {
   "codemirror_mode": {
    "name": "ipython",
    "version": 3
   },
   "file_extension": ".py",
   "mimetype": "text/x-python",
   "name": "python",
   "nbconvert_exporter": "python",
   "pygments_lexer": "ipython3",
   "version": "3.7.1"
  }
 },
 "nbformat": 4,
 "nbformat_minor": 2
}
